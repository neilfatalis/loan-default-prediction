{
 "cells": [
  {
   "cell_type": "markdown",
   "metadata": {},
   "source": [
    "# Loan Default Prediction"
   ]
  },
  {
   "cell_type": "code",
   "execution_count": 1,
   "metadata": {},
   "outputs": [],
   "source": [
    "import pandas as pd\n",
    "\n",
    "# Load the dataset\n",
    "file_path = 'data/lending-club-loan-fix.csv'\n",
    "loan = pd.read_csv(file_path)"
   ]
  },
  {
   "cell_type": "markdown",
   "metadata": {},
   "source": [
    "## Data Exploration and Understanding"
   ]
  },
  {
   "cell_type": "code",
   "execution_count": 2,
   "metadata": {},
   "outputs": [
    {
     "name": "stdout",
     "output_type": "stream",
     "text": [
      "   loan_amnt        term  int_rate  installment grade sub_grade  \\\n",
      "0    10000.0   36 months     11.44       329.48     B        B4   \n",
      "1     8000.0   36 months     11.99       265.68     B        B5   \n",
      "2    15600.0   36 months     10.49       506.97     B        B3   \n",
      "3     7200.0   36 months      6.49       220.65     A        A2   \n",
      "4    24375.0   60 months     17.27       609.33     C        C5   \n",
      "\n",
      "                 emp_title emp_length home_ownership  annual_inc  ...  \\\n",
      "0                Marketing  10+ years           RENT    117000.0  ...   \n",
      "1          Credit analyst     4 years       MORTGAGE     65000.0  ...   \n",
      "2             Statistician   < 1 year           RENT     43057.0  ...   \n",
      "3          Client Advocate    6 years           RENT     54000.0  ...   \n",
      "4  Destiny Management Inc.    9 years       MORTGAGE     55000.0  ...   \n",
      "\n",
      "  open_acc pub_rec revol_bal revol_util total_acc  initial_list_status  \\\n",
      "0     16.0     0.0   36369.0       41.8      25.0                    w   \n",
      "1     17.0     0.0   20131.0       53.3      27.0                    f   \n",
      "2     13.0     0.0   11987.0       92.2      26.0                    f   \n",
      "3      6.0     0.0    5472.0       21.5      13.0                    f   \n",
      "4     13.0     0.0   24584.0       69.8      43.0                    f   \n",
      "\n",
      "  application_type  mort_acc  pub_rec_bankruptcies  \\\n",
      "0       INDIVIDUAL       0.0                   0.0   \n",
      "1       INDIVIDUAL       3.0                   0.0   \n",
      "2       INDIVIDUAL       0.0                   0.0   \n",
      "3       INDIVIDUAL       0.0                   0.0   \n",
      "4       INDIVIDUAL       1.0                   0.0   \n",
      "\n",
      "                                             address  \n",
      "0     0174 Michelle Gateway\\r\\nMendozaberg, OK 22690  \n",
      "1  1076 Carney Fort Apt. 347\\r\\nLoganmouth, SD 05113  \n",
      "2  87025 Mark Dale Apt. 269\\r\\nNew Sabrina, WV 05113  \n",
      "3            823 Reid Ford\\r\\nDelacruzside, MA 00813  \n",
      "4             679 Luna Roads\\r\\nGreggshire, VA 11650  \n",
      "\n",
      "[5 rows x 27 columns]\n"
     ]
    }
   ],
   "source": [
    "# Display the first few rows of the dataframe\n",
    "print(loan.head())"
   ]
  },
  {
   "cell_type": "code",
   "execution_count": 3,
   "metadata": {},
   "outputs": [
    {
     "name": "stdout",
     "output_type": "stream",
     "text": [
      "<class 'pandas.core.frame.DataFrame'>\n",
      "RangeIndex: 396030 entries, 0 to 396029\n",
      "Data columns (total 27 columns):\n",
      " #   Column                Non-Null Count   Dtype  \n",
      "---  ------                --------------   -----  \n",
      " 0   loan_amnt             396030 non-null  float64\n",
      " 1   term                  396030 non-null  object \n",
      " 2   int_rate              396030 non-null  float64\n",
      " 3   installment           396030 non-null  float64\n",
      " 4   grade                 396030 non-null  object \n",
      " 5   sub_grade             396030 non-null  object \n",
      " 6   emp_title             373103 non-null  object \n",
      " 7   emp_length            377729 non-null  object \n",
      " 8   home_ownership        396030 non-null  object \n",
      " 9   annual_inc            396030 non-null  float64\n",
      " 10  verification_status   396030 non-null  object \n",
      " 11  issue_d               396030 non-null  object \n",
      " 12  loan_status           396030 non-null  object \n",
      " 13  purpose               396030 non-null  object \n",
      " 14  title                 394274 non-null  object \n",
      " 15  dti                   396030 non-null  float64\n",
      " 16  earliest_cr_line      396030 non-null  object \n",
      " 17  open_acc              396030 non-null  float64\n",
      " 18  pub_rec               396030 non-null  float64\n",
      " 19  revol_bal             396030 non-null  float64\n",
      " 20  revol_util            395754 non-null  float64\n",
      " 21  total_acc             396030 non-null  float64\n",
      " 22  initial_list_status   396030 non-null  object \n",
      " 23  application_type      396030 non-null  object \n",
      " 24  mort_acc              358235 non-null  float64\n",
      " 25  pub_rec_bankruptcies  395495 non-null  float64\n",
      " 26  address               396030 non-null  object \n",
      "dtypes: float64(12), object(15)\n",
      "memory usage: 81.6+ MB\n",
      "None\n"
     ]
    }
   ],
   "source": [
    "# Display the basic information about the dataframe\n",
    "print(loan.info())"
   ]
  },
  {
   "cell_type": "code",
   "execution_count": 4,
   "metadata": {},
   "outputs": [
    {
     "name": "stdout",
     "output_type": "stream",
     "text": [
      "           loan_amnt       int_rate    installment    annual_inc  \\\n",
      "count  396030.000000  396030.000000  396030.000000  3.960300e+05   \n",
      "mean    14113.888089      13.639400     431.849698  7.420318e+04   \n",
      "std      8357.441341       4.472157     250.727790  6.163762e+04   \n",
      "min       500.000000       5.320000      16.080000  0.000000e+00   \n",
      "25%      8000.000000      10.490000     250.330000  4.500000e+04   \n",
      "50%     12000.000000      13.330000     375.430000  6.400000e+04   \n",
      "75%     20000.000000      16.490000     567.300000  9.000000e+04   \n",
      "max     40000.000000      30.990000    1533.810000  8.706582e+06   \n",
      "\n",
      "                 dti       open_acc        pub_rec     revol_bal  \\\n",
      "count  396030.000000  396030.000000  396030.000000  3.960300e+05   \n",
      "mean       17.379514      11.311153       0.178191  1.584454e+04   \n",
      "std        18.019092       5.137649       0.530671  2.059184e+04   \n",
      "min         0.000000       0.000000       0.000000  0.000000e+00   \n",
      "25%        11.280000       8.000000       0.000000  6.025000e+03   \n",
      "50%        16.910000      10.000000       0.000000  1.118100e+04   \n",
      "75%        22.980000      14.000000       0.000000  1.962000e+04   \n",
      "max      9999.000000      90.000000      86.000000  1.743266e+06   \n",
      "\n",
      "          revol_util      total_acc       mort_acc  pub_rec_bankruptcies  \n",
      "count  395754.000000  396030.000000  358235.000000         395495.000000  \n",
      "mean       53.791749      25.414744       1.813991              0.121648  \n",
      "std        24.452193      11.886991       2.147930              0.356174  \n",
      "min         0.000000       2.000000       0.000000              0.000000  \n",
      "25%        35.800000      17.000000       0.000000              0.000000  \n",
      "50%        54.800000      24.000000       1.000000              0.000000  \n",
      "75%        72.900000      32.000000       3.000000              0.000000  \n",
      "max       892.300000     151.000000      34.000000              8.000000  \n"
     ]
    }
   ],
   "source": [
    "# Display the summary statistics of the dataframe\n",
    "print(loan.describe())"
   ]
  },
  {
   "cell_type": "code",
   "execution_count": 5,
   "metadata": {},
   "outputs": [
    {
     "name": "stdout",
     "output_type": "stream",
     "text": [
      "loan_amnt               float64\n",
      "term                     object\n",
      "int_rate                float64\n",
      "installment             float64\n",
      "grade                    object\n",
      "sub_grade                object\n",
      "emp_title                object\n",
      "emp_length               object\n",
      "home_ownership           object\n",
      "annual_inc              float64\n",
      "verification_status      object\n",
      "issue_d                  object\n",
      "loan_status              object\n",
      "purpose                  object\n",
      "title                    object\n",
      "dti                     float64\n",
      "earliest_cr_line         object\n",
      "open_acc                float64\n",
      "pub_rec                 float64\n",
      "revol_bal               float64\n",
      "revol_util              float64\n",
      "total_acc               float64\n",
      "initial_list_status      object\n",
      "application_type         object\n",
      "mort_acc                float64\n",
      "pub_rec_bankruptcies    float64\n",
      "address                  object\n",
      "dtype: object\n"
     ]
    }
   ],
   "source": [
    "# Display the data types of each column\n",
    "print(loan.dtypes)"
   ]
  },
  {
   "cell_type": "code",
   "execution_count": 6,
   "metadata": {},
   "outputs": [
    {
     "name": "stdout",
     "output_type": "stream",
     "text": [
      "['Fully Paid' 'Charged Off']\n"
     ]
    }
   ],
   "source": [
    "# Display the unique values in the target column to understand its distribution\n",
    "print(loan['loan_status'].unique())"
   ]
  },
  {
   "cell_type": "code",
   "execution_count": 7,
   "metadata": {},
   "outputs": [
    {
     "name": "stdout",
     "output_type": "stream",
     "text": [
      "loan_status\n",
      "Fully Paid     318357\n",
      "Charged Off     77673\n",
      "Name: count, dtype: int64\n"
     ]
    }
   ],
   "source": [
    "# Display the count of each unique value in the target column\n",
    "print(loan['loan_status'].value_counts())"
   ]
  },
  {
   "cell_type": "code",
   "execution_count": 8,
   "metadata": {},
   "outputs": [
    {
     "name": "stdout",
     "output_type": "stream",
     "text": [
      "loan_amnt                   0\n",
      "term                        0\n",
      "int_rate                    0\n",
      "installment                 0\n",
      "grade                       0\n",
      "sub_grade                   0\n",
      "emp_title               22927\n",
      "emp_length              18301\n",
      "home_ownership              0\n",
      "annual_inc                  0\n",
      "verification_status         0\n",
      "issue_d                     0\n",
      "loan_status                 0\n",
      "purpose                     0\n",
      "title                    1756\n",
      "dti                         0\n",
      "earliest_cr_line            0\n",
      "open_acc                    0\n",
      "pub_rec                     0\n",
      "revol_bal                   0\n",
      "revol_util                276\n",
      "total_acc                   0\n",
      "initial_list_status         0\n",
      "application_type            0\n",
      "mort_acc                37795\n",
      "pub_rec_bankruptcies      535\n",
      "address                     0\n",
      "dtype: int64\n"
     ]
    }
   ],
   "source": [
    "# Check for missing values\n",
    "print(loan.isnull().sum())"
   ]
  },
  {
   "cell_type": "code",
   "execution_count": 10,
   "metadata": {},
   "outputs": [],
   "source": [
    "# # Drop rows with missing values (if the missing data is minimal)\n",
    "# loan = loan.dropna()"
   ]
  }
 ],
 "metadata": {
  "kernelspec": {
   "display_name": "datascience",
   "language": "python",
   "name": "python3"
  },
  "language_info": {
   "codemirror_mode": {
    "name": "ipython",
    "version": 3
   },
   "file_extension": ".py",
   "mimetype": "text/x-python",
   "name": "python",
   "nbconvert_exporter": "python",
   "pygments_lexer": "ipython3",
   "version": "3.11.7"
  }
 },
 "nbformat": 4,
 "nbformat_minor": 2
}
