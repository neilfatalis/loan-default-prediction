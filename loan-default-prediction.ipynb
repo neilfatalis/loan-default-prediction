{
 "cells": [
  {
   "cell_type": "markdown",
   "metadata": {},
   "source": [
    "# Loan Default Prediction"
   ]
  },
  {
   "cell_type": "code",
   "execution_count": 1,
   "metadata": {},
   "outputs": [],
   "source": [
    "import pandas as pd\n",
    "\n",
    "# Load the dataset\n",
    "file_path = 'data/lending-club-loan-fix.csv'\n",
    "loan = pd.read_csv(file_path)"
   ]
  },
  {
   "cell_type": "markdown",
   "metadata": {},
   "source": [
    "## Data Exploration and Understanding"
   ]
  },
  {
   "cell_type": "code",
   "execution_count": 2,
   "metadata": {},
   "outputs": [
    {
     "name": "stdout",
     "output_type": "stream",
     "text": [
      "   loan_amnt        term  int_rate  installment grade sub_grade  \\\n",
      "0     8000.0   36 months     16.20       282.05     C        C4   \n",
      "1     9000.0   36 months     14.33       309.05     C        C1   \n",
      "2    12000.0   60 months     12.49       269.92     B        B5   \n",
      "3    20000.0   36 months      6.62       614.08     A        A2   \n",
      "4    13600.0   36 months      7.29       421.74     A        A4   \n",
      "\n",
      "             emp_title emp_length home_ownership  annual_inc  ... open_acc  \\\n",
      "0            Counselor    7 years           RENT     50000.0  ...     13.0   \n",
      "1  American Portfolios    4 years           RENT     40000.0  ...     13.0   \n",
      "2       Senior Analyst    4 years       MORTGAGE     73000.0  ...     11.0   \n",
      "3           QA Manager    9 years       MORTGAGE    110000.0  ...      8.0   \n",
      "4    Caxton Associates    7 years       MORTGAGE    115000.0  ...      9.0   \n",
      "\n",
      "  pub_rec revol_bal revol_util total_acc  initial_list_status  \\\n",
      "0     1.0    9034.0       68.4      30.0                    w   \n",
      "1     0.0   14593.0       71.2      30.0                    f   \n",
      "2     0.0   18633.0       62.1      60.0                    w   \n",
      "3     0.0    5275.0       38.2      24.0                    f   \n",
      "4     0.0     191.0        0.8      17.0                    f   \n",
      "\n",
      "  application_type  mort_acc  pub_rec_bankruptcies  \\\n",
      "0       INDIVIDUAL       0.0                   1.0   \n",
      "1       INDIVIDUAL       0.0                   0.0   \n",
      "2       INDIVIDUAL       2.0                   0.0   \n",
      "3       INDIVIDUAL       2.0                   0.0   \n",
      "4       INDIVIDUAL       NaN                   0.0   \n",
      "\n",
      "                                             address  \n",
      "0                 Unit 9587 Box 8878\\r\\nDPO AA 29597  \n",
      "1         314 Mercer Route\\r\\nWest Kathryn, TX 48052  \n",
      "2       5389 Brandi Springs\\r\\nAshleymouth, LA 29597  \n",
      "3  166 Lopez Key Apt. 864\\r\\nSouth Angelaland, CO...  \n",
      "4  48033 Xavier Squares Suite 893\\r\\nSouth Rubenb...  \n",
      "\n",
      "[5 rows x 27 columns]\n"
     ]
    }
   ],
   "source": [
    "# Display the first few rows of the dataframe\n",
    "print(loan.head())"
   ]
  },
  {
   "cell_type": "code",
   "execution_count": 3,
   "metadata": {},
   "outputs": [
    {
     "name": "stdout",
     "output_type": "stream",
     "text": [
      "<class 'pandas.core.frame.DataFrame'>\n",
      "RangeIndex: 79206 entries, 0 to 79205\n",
      "Data columns (total 27 columns):\n",
      " #   Column                Non-Null Count  Dtype  \n",
      "---  ------                --------------  -----  \n",
      " 0   loan_amnt             79206 non-null  float64\n",
      " 1   term                  79206 non-null  object \n",
      " 2   int_rate              79206 non-null  float64\n",
      " 3   installment           79206 non-null  float64\n",
      " 4   grade                 79206 non-null  object \n",
      " 5   sub_grade             79206 non-null  object \n",
      " 6   emp_title             74679 non-null  object \n",
      " 7   emp_length            75542 non-null  object \n",
      " 8   home_ownership        79206 non-null  object \n",
      " 9   annual_inc            79206 non-null  float64\n",
      " 10  verification_status   79206 non-null  object \n",
      " 11  issue_d               79206 non-null  object \n",
      " 12  loan_status           79206 non-null  object \n",
      " 13  purpose               79206 non-null  object \n",
      " 14  title                 78852 non-null  object \n",
      " 15  dti                   79206 non-null  float64\n",
      " 16  earliest_cr_line      79206 non-null  object \n",
      " 17  open_acc              79206 non-null  float64\n",
      " 18  pub_rec               79206 non-null  float64\n",
      " 19  revol_bal             79206 non-null  float64\n",
      " 20  revol_util            79147 non-null  float64\n",
      " 21  total_acc             79206 non-null  float64\n",
      " 22  initial_list_status   79206 non-null  object \n",
      " 23  application_type      79206 non-null  object \n",
      " 24  mort_acc              71633 non-null  float64\n",
      " 25  pub_rec_bankruptcies  79109 non-null  float64\n",
      " 26  address               79206 non-null  object \n",
      "dtypes: float64(12), object(15)\n",
      "memory usage: 16.3+ MB\n",
      "None\n"
     ]
    }
   ],
   "source": [
    "# Display the basic information about the dataframe\n",
    "print(loan.info())"
   ]
  },
  {
   "cell_type": "code",
   "execution_count": 4,
   "metadata": {},
   "outputs": [
    {
     "name": "stdout",
     "output_type": "stream",
     "text": [
      "          loan_amnt      int_rate   installment    annual_inc           dti  \\\n",
      "count  79206.000000  79206.000000  79206.000000  7.920600e+04  79206.000000   \n",
      "mean   14090.385198     13.639490    431.035773  7.399969e+04     17.408581   \n",
      "std     8343.716293      4.461456    249.793983  5.718671e+04      8.119132   \n",
      "min      500.000000      5.320000     16.080000  4.200000e+03      0.000000   \n",
      "25%     8000.000000     10.490000    250.290000  4.500000e+04     11.340000   \n",
      "50%    12000.000000     13.330000    374.970000  6.400000e+04     16.980000   \n",
      "75%    20000.000000     16.490000    566.560000  9.000000e+04     23.010000   \n",
      "max    40000.000000     30.990000   1428.700000  5.000000e+06     93.860000   \n",
      "\n",
      "           open_acc       pub_rec     revol_bal    revol_util     total_acc  \\\n",
      "count  79206.000000  79206.000000  7.920600e+04  79147.000000  79206.000000   \n",
      "mean      11.340075      0.174734  1.588698e+04     53.938152     25.458867   \n",
      "std        5.137967      0.504655  2.076770e+04     24.323258     11.879302   \n",
      "min        0.000000      0.000000  0.000000e+00      0.000000      2.000000   \n",
      "25%        8.000000      0.000000  6.067000e+03     36.100000     17.000000   \n",
      "50%       10.000000      0.000000  1.122300e+04     55.000000     24.000000   \n",
      "75%       14.000000      0.000000  1.966200e+04     72.950000     32.000000   \n",
      "max       54.000000     17.000000  1.298783e+06    152.500000    118.000000   \n",
      "\n",
      "           mort_acc  pub_rec_bankruptcies  \n",
      "count  71633.000000          79109.000000  \n",
      "mean       1.815993              0.119190  \n",
      "std        2.137708              0.353637  \n",
      "min        0.000000              0.000000  \n",
      "25%        0.000000              0.000000  \n",
      "50%        1.000000              0.000000  \n",
      "75%        3.000000              0.000000  \n",
      "max       32.000000              8.000000  \n"
     ]
    }
   ],
   "source": [
    "# Display the summary statistics of the dataframe\n",
    "print(loan.describe())"
   ]
  },
  {
   "cell_type": "code",
   "execution_count": 5,
   "metadata": {},
   "outputs": [
    {
     "name": "stdout",
     "output_type": "stream",
     "text": [
      "loan_amnt               float64\n",
      "term                     object\n",
      "int_rate                float64\n",
      "installment             float64\n",
      "grade                    object\n",
      "sub_grade                object\n",
      "emp_title                object\n",
      "emp_length               object\n",
      "home_ownership           object\n",
      "annual_inc              float64\n",
      "verification_status      object\n",
      "issue_d                  object\n",
      "loan_status              object\n",
      "purpose                  object\n",
      "title                    object\n",
      "dti                     float64\n",
      "earliest_cr_line         object\n",
      "open_acc                float64\n",
      "pub_rec                 float64\n",
      "revol_bal               float64\n",
      "revol_util              float64\n",
      "total_acc               float64\n",
      "initial_list_status      object\n",
      "application_type         object\n",
      "mort_acc                float64\n",
      "pub_rec_bankruptcies    float64\n",
      "address                  object\n",
      "dtype: object\n"
     ]
    }
   ],
   "source": [
    "# Display the data types of each column\n",
    "print(loan.dtypes)"
   ]
  },
  {
   "cell_type": "code",
   "execution_count": 6,
   "metadata": {},
   "outputs": [
    {
     "name": "stdout",
     "output_type": "stream",
     "text": [
      "['Fully Paid' 'Charged Off']\n"
     ]
    }
   ],
   "source": [
    "# Display the unique values in the target column to understand its distribution\n",
    "print(loan['loan_status'].unique())"
   ]
  },
  {
   "cell_type": "code",
   "execution_count": 7,
   "metadata": {},
   "outputs": [
    {
     "name": "stdout",
     "output_type": "stream",
     "text": [
      "loan_status\n",
      "Fully Paid     63556\n",
      "Charged Off    15650\n",
      "Name: count, dtype: int64\n"
     ]
    }
   ],
   "source": [
    "# Display the count of each unique value in the target column\n",
    "print(loan['loan_status'].value_counts())"
   ]
  },
  {
   "cell_type": "code",
   "execution_count": 8,
   "metadata": {},
   "outputs": [
    {
     "name": "stdout",
     "output_type": "stream",
     "text": [
      "loan_amnt                  0\n",
      "term                       0\n",
      "int_rate                   0\n",
      "installment                0\n",
      "grade                      0\n",
      "sub_grade                  0\n",
      "emp_title               4527\n",
      "emp_length              3664\n",
      "home_ownership             0\n",
      "annual_inc                 0\n",
      "verification_status        0\n",
      "issue_d                    0\n",
      "loan_status                0\n",
      "purpose                    0\n",
      "title                    354\n",
      "dti                        0\n",
      "earliest_cr_line           0\n",
      "open_acc                   0\n",
      "pub_rec                    0\n",
      "revol_bal                  0\n",
      "revol_util                59\n",
      "total_acc                  0\n",
      "initial_list_status        0\n",
      "application_type           0\n",
      "mort_acc                7573\n",
      "pub_rec_bankruptcies      97\n",
      "address                    0\n",
      "dtype: int64\n"
     ]
    }
   ],
   "source": [
    "# Check for missing values\n",
    "print(loan.isnull().sum())"
   ]
  },
  {
   "cell_type": "code",
   "execution_count": 9,
   "metadata": {},
   "outputs": [],
   "source": [
    "# Dropping rows with missing values\n",
    "loan = loan.dropna()"
   ]
  },
  {
   "cell_type": "code",
   "execution_count": 10,
   "metadata": {},
   "outputs": [
    {
     "name": "stdout",
     "output_type": "stream",
     "text": [
      "0\n"
     ]
    }
   ],
   "source": [
    "# Check for duplicate records\n",
    "print(loan.duplicated().sum())"
   ]
  },
  {
   "cell_type": "code",
   "execution_count": 11,
   "metadata": {},
   "outputs": [
    {
     "name": "stdout",
     "output_type": "stream",
     "text": [
      "Column: loan_amnt\n",
      "Unique values: [ 8000.  9000. 12000. ... 30175. 34600. 27950.]\n",
      "\n",
      "Column: term\n",
      "Unique values: [' 36 months' ' 60 months']\n",
      "\n",
      "Column: int_rate\n",
      "Unique values: [16.2  14.33 12.49  6.62 10.64 17.27 15.1  14.65  9.99 17.77 19.05 13.53\n",
      " 22.99 25.8  12.69 12.12 10.16 18.49  9.17 18.75 17.57 15.31 16.29 12.88\n",
      "  6.24  7.89 13.11 10.99 20.99 15.61 17.14 19.52 11.53 17.86 20.49 14.98\n",
      " 21.18 11.14  5.32  8.9  13.99 18.25 13.33 16.99  7.9  13.98 11.99 20.31\n",
      " 12.99 18.85 15.59 19.2  12.39 14.99 14.09 14.31 16.55 10.15 22.4  18.92\n",
      " 17.76 18.24  7.99  8.38 24.5  17.56 15.8  15.99  8.39 19.99 15.88 17.99\n",
      " 18.55 13.67 20.75  8.18  6.03 14.16 13.49 24.24 11.67  7.62 20.5  23.83\n",
      "  8.67 12.35 14.3  11.39  9.25 19.19 21.   22.39 10.74  8.24  8.6  27.34\n",
      " 17.1  17.97 22.15  9.71 21.98 16.49  6.68 14.47 21.99  9.49 12.29 14.49\n",
      " 16.78 12.59 11.49  8.19 23.13 24.08  7.49 10.75  6.89 16.59 13.35 26.77\n",
      " 23.43 12.85 23.99 13.05 10.49 11.44  7.69  6.49  8.49 18.99 11.47  6.92\n",
      " 11.48 13.66 13.18 11.55 19.72 26.06 23.7  14.64 19.24  6.39 13.68  9.75\n",
      "  9.67 19.22 22.95  7.12 23.4   7.26 20.2  13.65 18.54  8.99 23.76 23.28\n",
      " 22.45 24.74 10.78  7.39 14.46  6.99 23.5  15.22 18.84  9.16 21.6  25.65\n",
      " 24.99 19.47 25.09  9.76  6.97 21.48 15.81 20.8  21.49 19.97 12.79 25.83\n",
      " 13.44 28.49 25.89 25.57 21.67 19.48 19.53 19.89 24.11 22.7  11.22 22.2\n",
      " 16.24 25.99 15.41  7.91 12.74  9.8  23.63 26.49 18.2  28.99  7.24 14.85\n",
      "  8.59 21.97 22.74 22.47 21.15 25.11 28.14 24.89  5.93 25.29 23.1  25.78\n",
      " 28.18 25.49 27.88 21.7  14.48 25.88 24.7  22.9  26.57 30.79 12.05 25.69\n",
      "  7.59 23.26  6.   28.34 15.77 29.99 27.31 26.99 25.28 23.32 24.83 24.49\n",
      " 27.49 26.24 24.52 22.35 28.67 24.2  24.76 28.69 22.78 23.33 25.44 28.88\n",
      " 30.74 24.33 26.14 30.99 29.67 27.79 27.99]\n",
      "\n",
      "Column: installment\n",
      "Unique values: [282.05 309.05 269.92 ... 591.67 438.79 352.14]\n",
      "\n",
      "Column: grade\n",
      "Unique values: ['C' 'B' 'A' 'D' 'F' 'G' 'E']\n",
      "\n",
      "Column: sub_grade\n",
      "Unique values: ['C4' 'C1' 'B5' 'A2' 'B2' 'C5' 'C2' 'B1' 'D1' 'D4' 'F2' 'G1' 'B3' 'D2'\n",
      " 'D3' 'A5' 'B4' 'E5' 'D5' 'E4' 'C3' 'E3' 'A1' 'A4' 'F3' 'E2' 'A3' 'E1'\n",
      " 'F5' 'F1' 'G5' 'F4' 'G2' 'G4' 'G3']\n",
      "\n",
      "Column: emp_title\n",
      "Unique values: ['Counselor' 'American Portfolios' 'Senior Analyst' ...\n",
      " 'Nurse Professional Agency INC' 'Asset Protection & Security'\n",
      " 'Service provider']\n",
      "\n",
      "Column: emp_length\n",
      "Unique values: ['7 years' '4 years' '9 years' '10+ years' '8 years' '< 1 year' '3 years'\n",
      " '5 years' '2 years' '6 years' '1 year']\n",
      "\n",
      "Column: home_ownership\n",
      "Unique values: ['RENT' 'MORTGAGE' 'OWN' 'NONE' 'OTHER']\n",
      "\n",
      "Column: annual_inc\n",
      "Unique values: [50000. 40000. 73000. ... 74697. 38190. 44674.]\n",
      "\n",
      "Column: verification_status\n",
      "Unique values: ['Verified' 'Not Verified' 'Source Verified']\n",
      "\n",
      "Column: issue_d\n",
      "Unique values: ['Oct-2013' 'Sep-2012' 'Jul-2014' 'Dec-2013' 'Sep-2013' 'Jan-2013'\n",
      " 'May-2015' 'Feb-2013' 'Jul-2015' 'Aug-2014' 'Jun-2013' 'Sep-2015'\n",
      " 'Jun-2015' 'Apr-2013' 'Aug-2015' 'Aug-2012' 'Feb-2014' 'Oct-2012'\n",
      " 'Jan-2016' 'Apr-2016' 'Jul-2012' 'Oct-2015' 'Jan-2014' 'Nov-2014'\n",
      " 'Mar-2015' 'Feb-2016' 'May-2013' 'Oct-2016' 'May-2014' 'Jan-2015'\n",
      " 'Aug-2013' 'Mar-2012' 'Jul-2013' 'Mar-2014' 'Nov-2013' 'Jun-2014'\n",
      " 'Sep-2014' 'Feb-2015' 'Oct-2014' 'Dec-2015' 'Mar-2013' 'Mar-2016'\n",
      " 'Jul-2016' 'Apr-2012' 'Dec-2012' 'Apr-2015' 'Apr-2014' 'Jun-2016'\n",
      " 'Nov-2016' 'Dec-2016' 'Sep-2016' 'Jun-2012' 'Nov-2015' 'Dec-2014'\n",
      " 'Nov-2012' 'Aug-2016' 'May-2012' 'May-2016']\n",
      "\n",
      "Column: loan_status\n",
      "Unique values: ['Fully Paid' 'Charged Off']\n",
      "\n",
      "Column: purpose\n",
      "Unique values: ['debt_consolidation' 'credit_card' 'wedding' 'home_improvement' 'medical'\n",
      " 'other' 'moving' 'house' 'major_purchase' 'small_business' 'car'\n",
      " 'vacation' 'renewable_energy']\n",
      "\n",
      "Column: title\n",
      "Unique values: ['Consolidation loan' 'CC Refinance Loan' 'Credit card refinancing' ...\n",
      " 'consolildate' 'engagement' 'Moving relocation']\n",
      "\n",
      "Column: dti\n",
      "Unique values: [17.64 15.87 28.63 ...  0.09 39.84 36.5 ]\n",
      "\n",
      "Column: earliest_cr_line\n",
      "Unique values: ['Nov-2000' 'May-1980' 'Aug-2001' 'Oct-1993' 'Dec-1982' 'Jan-1993'\n",
      " 'Aug-1997' 'May-1985' 'Feb-1990' 'Oct-2005' 'Feb-1995' 'Jun-2005'\n",
      " 'Nov-1995' 'May-1999' 'Mar-1989' 'Sep-1997' 'Apr-2000' 'Apr-1991'\n",
      " 'Sep-2003' 'Mar-1988' 'Jul-2003' 'Apr-2003' 'Feb-2005' 'Aug-2008'\n",
      " 'Jan-2005' 'Apr-1980' 'Jan-1985' 'Jun-1998' 'Sep-1994' 'Jan-2000'\n",
      " 'Feb-2000' 'Aug-2003' 'Jun-2000' 'Jul-2004' 'Dec-2002' 'Aug-2002'\n",
      " 'Oct-2008' 'Jan-1996' 'Sep-1999' 'Aug-1999' 'Oct-1990' 'Feb-1974'\n",
      " 'Oct-1996' 'Mar-1983' 'Apr-1995' 'Oct-2001' 'Oct-1994' 'Aug-1994'\n",
      " 'May-1992' 'Jul-2002' 'Mar-2001' 'Jul-1999' 'Jan-2003' 'Mar-2002'\n",
      " 'Sep-1995' 'Sep-1993' 'Mar-1994' 'Jan-1997' 'Jan-2002' 'Dec-1988'\n",
      " 'Apr-1994' 'Nov-2004' 'Sep-2001' 'Apr-1977' 'Jun-1986' 'Dec-1995'\n",
      " 'Nov-2007' 'Aug-2000' 'Nov-1993' 'Jun-1988' 'Oct-2003' 'Jun-2011'\n",
      " 'Dec-1996' 'Aug-1992' 'Apr-2005' 'Jun-2002' 'Jan-1995' 'Feb-2002'\n",
      " 'Feb-1999' 'Feb-1992' 'May-1991' 'Mar-1987' 'Apr-1996' 'Jun-2001'\n",
      " 'Sep-2005' 'Feb-2007' 'Nov-1984' 'Apr-2001' 'Apr-1998' 'Nov-2008'\n",
      " 'Jun-1997' 'May-2000' 'May-1993' 'May-2008' 'Jul-2000' 'Mar-1999'\n",
      " 'Oct-2002' 'Jun-1987' 'Oct-2004' 'Aug-1981' 'Dec-2000' 'Mar-1995'\n",
      " 'Sep-1996' 'Feb-2001' 'May-2009' 'Dec-2001' 'Dec-1994' 'Dec-1985'\n",
      " 'Aug-1989' 'Aug-1974' 'Apr-2002' 'Dec-1989' 'Mar-2007' 'Nov-2005'\n",
      " 'Dec-2003' 'Oct-1998' 'Mar-2003' 'Aug-1996' 'Dec-1987' 'Apr-1984'\n",
      " 'Aug-2007' 'Jul-2007' 'Mar-2008' 'Dec-2005' 'Jul-1982' 'Oct-1992'\n",
      " 'Feb-1993' 'Jul-1990' 'Mar-1998' 'Jan-1982' 'Jun-2006' 'May-1998'\n",
      " 'Oct-1997' 'Jan-2004' 'Jul-1994' 'Nov-2003' 'Nov-1994' 'Oct-2000'\n",
      " 'Sep-2008' 'Aug-2004' 'Jun-1995' 'Feb-2004' 'Jun-2004' 'Sep-1991'\n",
      " 'Feb-1975' 'Jun-1993' 'Nov-1998' 'Jul-2001' 'Aug-1988' 'Nov-2002'\n",
      " 'Jul-1986' 'Jul-2006' 'Sep-1982' 'Apr-1993' 'Aug-1995' 'Apr-2009'\n",
      " 'Mar-1978' 'Jan-2007' 'Sep-1983' 'Mar-1992' 'May-1994' 'Nov-1986'\n",
      " 'Apr-2006' 'Feb-2012' 'Mar-1985' 'Oct-2009' 'Dec-2004' 'Aug-1985'\n",
      " 'Apr-1999' 'Jul-2010' 'Jun-2003' 'Jan-1998' 'Sep-2006' 'May-2005'\n",
      " 'Dec-1997' 'Mar-2004' 'Oct-1999' 'Aug-1998' 'Mar-1990' 'Dec-2007'\n",
      " 'Aug-2006' 'Nov-1996' 'Jan-2001' 'Sep-2002' 'May-2007' 'Apr-2007'\n",
      " 'Jan-1986' 'Sep-1998' 'May-2003' 'Mar-2000' 'Jun-1974' 'Sep-1987'\n",
      " 'Dec-2009' 'Jun-1983' 'May-2001' 'Nov-2010' 'Sep-2007' 'Feb-2003'\n",
      " 'Feb-2010' 'Feb-1997' 'May-2004' 'Nov-1997' 'Jul-1998' 'Apr-1989'\n",
      " 'Feb-1996' 'Nov-1999' 'Jun-2009' 'Nov-1983' 'Sep-2000' 'May-1995'\n",
      " 'Oct-2007' 'Jul-1979' 'Jun-1994' 'Dec-1998' 'Nov-2001' 'Jun-1982'\n",
      " 'Jul-1987' 'Jan-1999' 'Jun-1996' 'Jan-2006' 'Jan-2008' 'Jun-1999'\n",
      " 'Dec-1999' 'Feb-1998' 'Feb-1989' 'Jul-1996' 'May-1989' 'Mar-2006'\n",
      " 'Oct-1985' 'Jan-1974' 'Nov-1992' 'Jul-2011' 'Apr-2004' 'Apr-1985'\n",
      " 'Aug-2005' 'Mar-1996' 'Apr-1987' 'Apr-1992' 'Dec-2010' 'Jun-2007'\n",
      " 'Nov-2006' 'Sep-2011' 'Sep-2010' 'Apr-1997' 'Sep-1984' 'Oct-1987'\n",
      " 'Sep-1972' 'Aug-2010' 'May-1997' 'Jul-1995' 'Jan-1991' 'May-1996'\n",
      " 'Dec-1992' 'Sep-2004' 'Jun-1990' 'Nov-1985' 'Sep-1992' 'Jan-1990'\n",
      " 'Aug-2009' 'Aug-1993' 'Dec-1984' 'Dec-2006' 'Dec-2008' 'Oct-1965'\n",
      " 'Apr-1988' 'Sep-1980' 'Oct-1974' 'Jun-1992' 'May-1978' 'Dec-1991'\n",
      " 'May-2002' 'Apr-1975' 'Apr-1982' 'Jun-1979' 'May-1990' 'Jan-1984'\n",
      " 'Feb-1991' 'Jul-1997' 'May-1968' 'Jul-1993' 'Jan-1994' 'Nov-1990'\n",
      " 'Oct-2010' 'Jan-1989' 'Jan-2012' 'Jan-1992' 'Jan-1980' 'Oct-2006'\n",
      " 'Feb-1994' 'Apr-1986' 'Jul-1989' 'Oct-1988' 'Aug-1984' 'Mar-1991'\n",
      " 'Apr-2008' 'Jul-1991' 'Nov-1991' 'Dec-1976' 'Feb-2006' 'May-1986'\n",
      " 'Jul-2008' 'Oct-1991' 'Oct-1983' 'Dec-1986' 'Oct-1977' 'Dec-1990'\n",
      " 'Mar-1993' 'Aug-1991' 'Jul-1988' 'Dec-1993' 'Oct-2011' 'Nov-1987'\n",
      " 'Nov-1977' 'Sep-1990' 'Mar-1997' 'Jul-1992' 'Nov-1981' 'Oct-1995'\n",
      " 'Jun-1991' 'Jul-1978' 'Mar-1984' 'Jun-2008' 'Feb-1987' 'Jan-1988'\n",
      " 'Feb-2008' 'Jul-1985' 'Jul-1975' 'Jun-2010' 'May-2006' 'Mar-2011'\n",
      " 'Feb-1981' 'Aug-1983' 'Jan-1987' 'Jun-1981' 'Jan-2011' 'Jul-2005'\n",
      " 'Jul-1984' 'Aug-1990' 'Aug-2011' 'Sep-1989' 'Nov-1988' 'Oct-1984'\n",
      " 'Jul-1983' 'May-2010' 'Oct-1986' 'Apr-1983' 'Jun-1989' 'Jul-1973'\n",
      " 'Oct-1989' 'Jun-1977' 'Jan-1969' 'Nov-1978' 'Jun-1985' 'Feb-1986'\n",
      " 'Jun-1980' 'Feb-1977' 'Apr-1976' 'Dec-1977' 'Feb-1976' 'Jun-1976'\n",
      " 'May-1977' 'Apr-1990' 'Feb-1973' 'Nov-1976' 'Jan-2009' 'Mar-1986'\n",
      " 'Jan-1983' 'Oct-1979' 'Jun-1984' 'Mar-2005' 'Nov-1982' 'Feb-1988'\n",
      " 'Mar-2009' 'Sep-1974' 'Feb-1971' 'Nov-1989' 'May-1983' 'Feb-2011'\n",
      " 'Feb-1980' 'Aug-1980' 'May-1976' 'Aug-1976' 'Feb-1982' 'Dec-1971'\n",
      " 'May-1979' 'Feb-1984' 'Jul-2009' 'Apr-1974' 'Oct-1982' 'Nov-1979'\n",
      " 'Nov-1972' 'May-1981' 'Sep-1985' 'Jan-2013' 'Jan-1981' 'Dec-1981'\n",
      " 'Mar-1980' 'May-1988' 'Aug-1987' 'Mar-1982' 'Dec-2012' 'Apr-1966'\n",
      " 'Apr-2010' 'Oct-1981' 'Apr-1978' 'Dec-1972' 'May-1982' 'Aug-2012'\n",
      " 'Sep-2012' 'Sep-1970' 'Aug-1978' 'Nov-1980' 'Mar-2010' 'Jul-1972'\n",
      " 'May-1973' 'Apr-2011' 'Jan-1978' 'Apr-2012' 'Feb-1979' 'Dec-1975'\n",
      " 'Sep-1981' 'Jan-1972' 'Nov-2009' 'Sep-1988' 'Mar-1975' 'Mar-1973'\n",
      " 'Mar-1977' 'Jul-1980' 'Feb-2009' 'Feb-1983' 'Aug-1972' 'Dec-1974'\n",
      " 'May-1987' 'Sep-1986' 'Jan-1977' 'Oct-1978' 'Apr-1969' 'Jan-2010'\n",
      " 'Jul-1966' 'Dec-1979' 'Sep-1969' 'Apr-1971' 'Aug-1977' 'Feb-1978'\n",
      " 'Jul-1974' 'Sep-2009' 'Nov-2012' 'Dec-2011' 'Apr-1965' 'Aug-1975'\n",
      " 'Apr-1968' 'Jul-1977' 'Aug-1979' 'Jan-1976' 'Apr-1970' 'Jun-1975'\n",
      " 'May-1984' 'Mar-1981' 'Sep-1978' 'Dec-1983' 'May-2012' 'Aug-1986'\n",
      " 'Jan-1973' 'Sep-1967' 'Nov-2011' 'Oct-1980' 'Jun-1973' 'Sep-1973'\n",
      " 'Feb-1967' 'Aug-1973' 'Sep-1976' 'Oct-1976' 'Nov-1974' 'Nov-1973'\n",
      " 'Apr-1979' 'Aug-1982' 'Mar-1970' 'Mar-1972' 'Apr-1981' 'Jun-1978'\n",
      " 'Sep-1977' 'Sep-1979' 'May-1974' 'Jun-2012' 'Apr-2013' 'Jun-2013'\n",
      " 'May-1972' 'Mar-1979' 'May-2011' 'Feb-1985' 'Nov-1964' 'Oct-1975'\n",
      " 'Mar-2013' 'Aug-1967' 'Mar-1976' 'Jul-1967' 'Dec-1980' 'Dec-1978'\n",
      " 'Mar-1962' 'Mar-2012' 'Oct-1963' 'Dec-1973' 'Dec-1967' 'Jul-1971'\n",
      " 'Jul-1968' 'Jul-2012' 'Jun-1966' 'Jun-1969' 'Aug-1971' 'Jul-1976'\n",
      " 'Jul-1981' 'Jan-1979' 'Jul-1965' 'Aug-1968' 'Oct-2012' 'Dec-1965'\n",
      " 'Oct-2013' 'Jan-1966' 'Jan-1968' 'Jan-1965' 'Feb-1970' 'Feb-1966'\n",
      " 'May-1964' 'Mar-1974' 'Jan-1971' 'Mar-1966' 'Sep-1966' 'Sep-1975'\n",
      " 'May-1975' 'Oct-1971' 'Nov-1975' 'Jan-1963' 'Nov-1965' 'Oct-1973'\n",
      " 'Mar-1971' 'Feb-2013' 'Jul-1963' 'Mar-1968' 'Feb-1972' 'Jun-1968'\n",
      " 'Oct-1970' 'Jan-1944' 'Sep-1968' 'May-1970' 'Apr-1972' 'Aug-1966'\n",
      " 'May-1955' 'Jan-1967' 'Aug-1970' 'May-1966' 'Jul-1969' 'Aug-1965'\n",
      " 'Jun-1957' 'Nov-1968' 'Nov-1969' 'Jan-1970' 'Jan-1975' 'Sep-1971'\n",
      " 'Nov-1958' 'Feb-1965' 'Mar-1964' 'Jun-1970' 'May-2013' 'Jun-1972'\n",
      " 'Oct-1962' 'Jan-1948' 'May-1971' 'Oct-1972' 'Oct-1964' 'Mar-1967'\n",
      " 'Nov-1971' 'Jan-1957' 'Nov-1950' 'Apr-1973' 'Mar-1969' 'Jul-1970'\n",
      " 'Apr-1967' 'Nov-1960' 'May-1967' 'Dec-1969' 'Oct-1969' 'Jun-1971'\n",
      " 'May-1969' 'Jan-1961' 'Jun-1965' 'Dec-1963' 'Jun-1963' 'Aug-1969'\n",
      " 'Jul-1955' 'Sep-1964' 'Aug-1958' 'Aug-1963' 'Sep-1959']\n",
      "\n",
      "Column: open_acc\n",
      "Unique values: [13. 11.  8. 14. 10. 20. 16. 24.  7.  9. 23. 12.  5. 15.  4. 27.  6. 17.\n",
      " 18. 22.  3. 33. 54. 19. 29. 26. 21.  2. 25. 31. 28. 30. 34. 38. 35. 32.\n",
      " 36.  1. 39. 37. 45. 43. 48. 44. 42. 40. 53. 41. 46. 47.]\n",
      "\n",
      "Column: pub_rec\n",
      "Unique values: [ 1.  0.  3.  2.  5.  7.  4. 12.  6. 11.  8. 17.  9. 13.]\n",
      "\n",
      "Column: revol_bal\n",
      "Unique values: [ 9034. 14593. 18633. ...   681. 25558. 29915.]\n",
      "\n",
      "Column: revol_util\n",
      "Unique values: [ 68.4  71.2  62.1 ... 123.2 103.9 118.9]\n",
      "\n",
      "Column: total_acc\n",
      "Unique values: [ 30.  60.  24.  23.  28.  54.  32.  33.  20.  41.  27.  25.  38.  11.\n",
      "  26.  13.  21.  22.  10.  14.  17.  18.  16.  46.  43.  47.  44.  35.\n",
      "  37.  31.  12.  19.  36.  56.  34.  39.   8.  29.  42.  15.  59.   9.\n",
      "   6.  51. 116.  57.  40.  49.  52.   7.   4.  55.  53.  62.  68.  45.\n",
      "  50.  63.  48.  65.  61.   5.  69.  73.  58.  72.  67.  90.  80.  96.\n",
      "  81.  78.  71.   3.  64.  66.  74. 118.  77.  79.  93.  70.  83.  75.\n",
      "  82. 103.  86.  85.  84.  89. 107.  76.   2.  88.  99.  95.  91.  94.]\n",
      "\n",
      "Column: initial_list_status\n",
      "Unique values: ['w' 'f']\n",
      "\n",
      "Column: application_type\n",
      "Unique values: ['INDIVIDUAL' 'JOINT' 'DIRECT_PAY']\n",
      "\n",
      "Column: mort_acc\n",
      "Unique values: [ 0.  2.  3.  6.  1.  4.  5.  7.  8. 15.  9. 10. 11. 12. 13. 14. 18. 16.\n",
      " 24. 19. 22. 17.]\n",
      "\n",
      "Column: pub_rec_bankruptcies\n",
      "Unique values: [1. 0. 3. 2. 4. 5. 7. 8. 6.]\n",
      "\n",
      "Column: address\n",
      "Unique values: ['Unit 9587 Box 8878\\r\\nDPO AA 29597'\n",
      " '314 Mercer Route\\r\\nWest Kathryn, TX 48052'\n",
      " '5389 Brandi Springs\\r\\nAshleymouth, LA 29597' ...\n",
      " '4352 Patricia Mall Apt. 420\\r\\nLake Collinchester, CA 29597'\n",
      " '88431 Lynch Knoll Suite 953\\r\\nSouth Anthony, FL 30723'\n",
      " '7688 Hodge Path Suite 171\\r\\nSouth Jamesside, IA 11650']\n",
      "\n"
     ]
    }
   ],
   "source": [
    "for column in loan.columns:\n",
    "    unique_values = loan[column].unique()\n",
    "    print(f\"Column: {column}\")\n",
    "    print(f\"Unique values: {unique_values}\\n\")"
   ]
  },
  {
   "cell_type": "code",
   "execution_count": 12,
   "metadata": {},
   "outputs": [
    {
     "name": "stdout",
     "output_type": "stream",
     "text": [
      "Number of columns: 27\n"
     ]
    }
   ],
   "source": [
    "num_columns = len(loan.columns)\n",
    "print(f\"Number of columns: {num_columns}\")"
   ]
  }
 ],
 "metadata": {
  "kernelspec": {
   "display_name": "datascience",
   "language": "python",
   "name": "python3"
  },
  "language_info": {
   "codemirror_mode": {
    "name": "ipython",
    "version": 3
   },
   "file_extension": ".py",
   "mimetype": "text/x-python",
   "name": "python",
   "nbconvert_exporter": "python",
   "pygments_lexer": "ipython3",
   "version": "3.11.7"
  }
 },
 "nbformat": 4,
 "nbformat_minor": 2
}
